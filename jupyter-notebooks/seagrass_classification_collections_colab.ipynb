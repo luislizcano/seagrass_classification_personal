{
  "nbformat": 4,
  "nbformat_minor": 0,
  "metadata": {
    "kernelspec": {
      "display_name": "Python 3",
      "language": "python",
      "name": "python3"
    },
    "language_info": {
      "codemirror_mode": {
        "name": "ipython",
        "version": 3
      },
      "file_extension": ".py",
      "mimetype": "text/x-python",
      "name": "python",
      "nbconvert_exporter": "python",
      "pygments_lexer": "ipython3",
      "version": "3.9.2"
    },
    "colab": {
      "name": "seagrass_classification_collections_colab.ipynb",
      "provenance": []
    }
  },
  "cells": [
    {
      "cell_type": "markdown",
      "metadata": {
        "id": "Kkc23H-J7mvm"
      },
      "source": [
        "# Semi-Automated Seagrass Classification Using Earth Engine Python API"
      ]
    },
    {
      "cell_type": "markdown",
      "metadata": {
        "id": "TZEfGRkG7mvp"
      },
      "source": [
        "This script classify seagrass beds in selected BOA images using ground-data to train the Support Vector Machine classifier. The outputs can be exported to EE Assets. All the training and validation matrices and accuracies can be saved as an Excel file in your working directory.<br/>\n"
      ]
    },
    {
      "cell_type": "markdown",
      "metadata": {
        "id": "StRlEBwi7mvq"
      },
      "source": [
        "Script by: Luis Lizcano-Sandoval (2021)<br/>\n",
        "College of Marine Sciences, University of South Florida<br/>\n",
        "luislizcanos@usf.edu\n",
        "Updated: 08/05/2022"
      ]
    },
    {
      "cell_type": "markdown",
      "metadata": {
        "id": "YtoTq1yw7mvr"
      },
      "source": [
        "<font size=\"4\">**Workflow:**</font>"
      ]
    },
    {
      "cell_type": "markdown",
      "metadata": {
        "id": "UvH1rPqO7mvr"
      },
      "source": [
        "1. Import required images, collections, data, etc.\n",
        "2. Mask clouds and land\n",
        "3. Apply Depth-Invariant Index (generates band-ratios B2B3)\n",
        "4. Sample bands: B1, B2, B3, B4, B/G\n",
        "5. Train models and classify (SVM)\n",
        "6. Get confusion matrices and accuracies\n",
        "7. Export classification images to EE Assets (.tiff)\n",
        "8. Save matrices in GDrive (.xlxs)"
      ]
    },
    {
      "cell_type": "code",
      "metadata": {
        "id": "iSypAzax7vs3",
        "outputId": "9dd2abbd-4e51-4a76-d712-e7d60c68b67f",
        "colab": {
          "base_uri": "https://localhost:8080/"
        }
      },
      "source": [
        "## Run this cell to mount your Google Drive\n",
        "import os, sys\n",
        "from google.colab import drive\n",
        "drive.mount('/content/drive')\n",
        "nb_path = '/content/notebooks'\n",
        "os.symlink('/content/drive/My Drive/Colab Notebooks', nb_path)\n",
        "sys.path.insert(0, nb_path)  # or append(nb_path)"
      ],
      "execution_count": 1,
      "outputs": [
        {
          "output_type": "stream",
          "name": "stdout",
          "text": [
            "Mounted at /content/drive\n"
          ]
        }
      ]
    },
    {
      "cell_type": "code",
      "metadata": {
        "id": "KxZOkVNh7vzc"
      },
      "source": [
        "## Authenticate your EE account\n",
        "!earthengine authenticate"
      ],
      "execution_count": null,
      "outputs": []
    },
    {
      "cell_type": "code",
      "metadata": {
        "id": "HOieAPGS7v3e"
      },
      "source": [
        "## Install some libraries [may need to restart runtime after]:\n",
        "!pip install xlsxwriter"
      ],
      "execution_count": null,
      "outputs": []
    },
    {
      "cell_type": "code",
      "metadata": {
        "id": "3alEOlxc70Ga"
      },
      "source": [
        "## Clone github repo:\n",
        "!git clone https://github.com/luislizcano/seagrass_scripts.git"
      ],
      "execution_count": null,
      "outputs": []
    },
    {
      "cell_type": "markdown",
      "source": [
        "## RESTART RUNTIME"
      ],
      "metadata": {
        "id": "Zh5bs4eMXzHX"
      }
    },
    {
      "cell_type": "code",
      "source": [
        "os.kill(os.getpid(), 9)"
      ],
      "metadata": {
        "id": "-5jBhyCdXzUg"
      },
      "execution_count": null,
      "outputs": []
    },
    {
      "cell_type": "markdown",
      "metadata": {
        "id": "oXQkPAN37mvr"
      },
      "source": [
        "**Load required libraries:**"
      ]
    },
    {
      "cell_type": "code",
      "metadata": {
        "id": "Svqhr6A87mvs"
      },
      "source": [
        "import os, sys #Import os, sys again if runtime was restarted.\n",
        "sys.path.insert(0,'/content/seagrass_scripts')\n",
        "sys.path.append('/content/seagrass_scripts/bin/')\n",
        "\n",
        "from google.colab import auth\n",
        "auth.authenticate_user()\n",
        "\n",
        "import google\n",
        "SCOPES = ['https://www.googleapis.com/auth/cloud-platform', 'https://www.googleapis.com/auth/earthengine']\n",
        "CREDENTIALS, project_id = google.auth.default(default_scopes=SCOPES)\n",
        "\n",
        "import ee\n",
        "ee.Initialize(CREDENTIALS, project='earth-engine-252816')"
      ],
      "execution_count": 1,
      "outputs": []
    },
    {
      "cell_type": "code",
      "metadata": {
        "id": "OEfRgGdg7mvt",
        "outputId": "79af4fea-022a-46c5-b7d8-c3d104194243",
        "colab": {
          "base_uri": "https://localhost:8080/"
        }
      },
      "source": [
        "## Verify you loaded the EE module correctly:\n",
        "from process import start_processing\n",
        "print('EE version: ',ee.__version__)"
      ],
      "execution_count": 2,
      "outputs": [
        {
          "output_type": "stream",
          "name": "stdout",
          "text": [
            "EE version:  0.1.335\n"
          ]
        }
      ]
    },
    {
      "cell_type": "markdown",
      "metadata": {
        "id": "DHQKbp-C7mvv"
      },
      "source": [
        "**Some metadata:**"
      ]
    },
    {
      "cell_type": "code",
      "metadata": {
        "id": "gcUX9hBr7mvv"
      },
      "source": [
        "## Define the source of your image, if from your EE Assets or EE Collections:\n",
        "# imageSource = 'assets'  ## Read BOA imagery from EE Assets\n",
        "imageSource = 'ee'      ## Read BOA imagery from EE Collections\n",
        "\n",
        "## Define the type of satellite imagery - uncomment as needed:\n",
        "satellite = 'Sentinel2'\n",
        "# satellite = 'Landsat8'\n",
        "# satellite = 'Landsat7'\n",
        "# satellite = 'Landsat5'\n",
        "\n",
        "## Settings for running script:\n",
        "regionName = 'St. Joseph Bay' ## Region to classify [match metadata from ´regions´ collection below]\n",
        "year = '2020'\n",
        "boaFolder = 'FL_'+year ## Name of folder with BOA images in assets.\n",
        "exportFolder = '00_RawClassification' ## Name of EE folder to save the final output - must create it manually if not exist yet.\n",
        "dataFolder = 'Ground-points-'+year ## EE Folder with Ground-truth points\n",
        "smoothStr = '_raw_' # Smooth classified pixels or not? options: '_smooth_' or '_raw_'\n",
        "\n",
        "## More metadata for saving image properties:\n",
        "nameCode = 'STJB' ## Unique code names\n",
        "regionCountry = 'USA'\n",
        "state = 'Florida'"
      ],
      "execution_count": 4,
      "outputs": []
    },
    {
      "cell_type": "markdown",
      "metadata": {
        "id": "bUZ-UcKK7mvu"
      },
      "source": [
        "**Insert list of image IDs:**"
      ]
    },
    {
      "cell_type": "code",
      "metadata": {
        "id": "WB6mRF9s7mvv"
      },
      "source": [
        "## Paste image ids. The script can work for images from different tiles.\n",
        "\n",
        "## Sentinel 2\n",
        "imageList = [\n",
        "'20200102T161649_20200102T161654_T16RFT',\n",
        "'20201031T162429_20201031T163013_T16RFT',\n",
        "'20200117T161611_20200117T162012_T16RFT',\n",
        "'20200903T160911_20200903T161955_T16RFT',\n",
        "'20201222T161701_20201222T162204_T16RFT',\n",
        "'20201026T162401_20201026T163052_T16RFU',\n",
        "'20201115T162541_20201115T162542_T16RFU',\n",
        "'20201125T162621_20201125T162620_T16RFU',\n",
        "'20201031T162429_20201031T163013_T16RFU'\n",
        "]"
      ],
      "execution_count": 5,
      "outputs": []
    },
    {
      "cell_type": "markdown",
      "metadata": {
        "id": "uiKEreDYN3FZ"
      },
      "source": [
        "**Import data:**"
      ]
    },
    {
      "cell_type": "code",
      "metadata": {
        "id": "fYJyy1YfN0z6"
      },
      "source": [
        "#########################    IMPORT TRAINING DATA    #########################\n",
        "\n",
        "# Sandy areas\n",
        "sand_areas = ee.FeatureCollection(\"users/lizcanosandoval/ground-points/Sand\")\n",
        "print('Sand areas loaded:', sand_areas.get('system:id').getInfo())\n",
        "\n",
        "# Ground-Points\n",
        "groundPoints = ee.FeatureCollection(\"users/lizcanosandoval/ground-points/\"+dataFolder)\n",
        "#groundPoints = ee.FeatureCollection(\"users/lizcanosandoval/ground-points/Turkey_2020\")\n",
        "print('Ground-points loaded:', groundPoints.get('system:id').getInfo())\n",
        "\n",
        "## Landmask\n",
        "#land = ee.FeatureCollection(\"users/lizcanosandoval/Florida_10m\") ##Created from NDWI using Sentinel-2 imagery\n",
        "land = ee.ImageCollection(\"users/lizcanosandoval/Watermask_S2\") ##Created from NDWI using Sentinel-2 imagery\n",
        "print('Land mask loaded:', land.get('system:id').getInfo())\n",
        "\n",
        "## Region polygons:\n",
        "regions = ee.FeatureCollection(\"users/lizcanosandoval/Seagrass/Regions\")\n",
        "print('Regions loaded:', regions.get('system:id').getInfo())\n",
        "\n",
        "print('*** Collections loaded correctly! ***')"
      ],
      "execution_count": null,
      "outputs": []
    },
    {
      "cell_type": "markdown",
      "metadata": {
        "id": "YgI9hnsW7mvw"
      },
      "source": [
        "**Start classification loop:**"
      ]
    },
    {
      "cell_type": "code",
      "source": [
        "%%time\n",
        "start_processing(imageSource,satellite,regionName,boaFolder,exportFolder,dataFolder,smoothStr,nameCode,\n",
        "                 regionCountry,state,imageList,sand_areas,groundPoints,land,regions,0,0,1)"
      ],
      "metadata": {
        "id": "nLHR95PHh5Q4"
      },
      "execution_count": null,
      "outputs": []
    }
  ]
}